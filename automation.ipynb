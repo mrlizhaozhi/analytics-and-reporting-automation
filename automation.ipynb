{
 "cells": [
  {
   "cell_type": "code",
   "execution_count": 12,
   "metadata": {},
   "outputs": [],
   "source": [
    "# Import libraries\n",
    "\n",
    "# # PowerPoint\n",
    "from pptx import Presentation\n",
    "from pptx.util import Pt, Cm\n",
    "\n",
    "# # Get data\n",
    "import pandas as pd"
   ]
  },
  {
   "cell_type": "code",
   "execution_count": 13,
   "metadata": {},
   "outputs": [
    {
     "name": "stdout",
     "output_type": "stream",
     "text": [
      "  Unnamed: 0  A  B  C\n",
      "0          D  1  4  7\n",
      "1          E  2  5  8\n",
      "2          F  3  6  9\n"
     ]
    }
   ],
   "source": [
    "# Get Excel data\n",
    "datapath = r\"C:\\Users\\ZhaozhiLi\\Documents\\我的资料\\学习规划\\课程资源\\数据科学\\统计分析\\数据分析\\Excel to PPT automation\\Test files\\automation.xlsx\"\n",
    "file = pd.ExcelFile(datapath)\n",
    "data = file.parse(\"Sheet1\")\n",
    "print(data)"
   ]
  },
  {
   "cell_type": "code",
   "execution_count": 14,
   "metadata": {
    "scrolled": false
   },
   "outputs": [],
   "source": [
    "# Connect to PPT slide and create table\n",
    "\n",
    "# # Connect to PowerPoint\n",
    "deckpath = r\"C:\\Users\\ZhaozhiLi\\Documents\\我的资料\\学习规划\\课程资源\\数据科学\\统计分析\\数据分析\\Excel to PPT automation\\Test files\\automation.pptx\"\n",
    "deck = Presentation(deckpath)\n",
    "\n",
    "# # Create a new slide\n",
    "slide = deck.slides.add_slide(deck.slide_layouts[1])\n",
    "\n",
    "# # Create a new table\n",
    "left, top, width, height = Cm(2), Cm(5), Cm(30.14), Cm(12.59)\n",
    "table_shape = slide.shapes.add_table(data.shape[0]+1, data.shape[1]+1, left, top, width, height)\n",
    "table = table_shape.table\n",
    "\n",
    "# Making tables: https://www.shibutan-bloomers.com/python-library-pptx-4_en/6514//` "
   ]
  },
  {
   "cell_type": "code",
   "execution_count": 15,
   "metadata": {},
   "outputs": [],
   "source": [
    "# Parse dataframe values to table\n",
    "\n",
    "# # Parse column headings\n",
    "column_headings = []\n",
    "for column_heading in data.columns:\n",
    "    column_headings.append(column_heading)\n",
    "\n",
    "for i in range(len(column_headings)):\n",
    "    cell = table.cell(0, i+1)\n",
    "    cell.text = str(column_headings[i])\n",
    "    \n",
    "# # Parse row headings\n",
    "row_headings = []\n",
    "for row_heading in data.index:\n",
    "    row_headings.append(row_heading)\n",
    "    \n",
    "for i in range(len(row_headings)):\n",
    "    cell = table.cell(i+1, 0)\n",
    "    cell.text = str(row_headings[i])\n",
    "    \n",
    "# # Parse table data\n",
    "values = data.values\n",
    "for i in range(len(values)):\n",
    "    for k in range(len(values[i])):\n",
    "        cell = table.cell(i+1, k+1)\n",
    "        cell.text = str(values[i][k])"
   ]
  },
  {
   "cell_type": "code",
   "execution_count": 16,
   "metadata": {},
   "outputs": [],
   "source": [
    "# Format the slide\n",
    "\n",
    "# # Add slide title\n",
    "slide.placeholders[0].text = \"Automation Test\"\n",
    "\n",
    "# # Adjust table font\n",
    "def iter_cells(table):\n",
    "    for row in table.rows:\n",
    "        for cell in row.cells:\n",
    "            yield cell\n",
    "\n",
    "for cell in iter_cells(table):\n",
    "    for paragraph in cell.text_frame.paragraphs:\n",
    "        for run in paragraph.runs:\n",
    "            run.font.size = Pt(40)\n",
    "            \n",
    "# https://stackoverflow.com/questions/40343921/python-pptx-change-entire-table-font-size"
   ]
  },
  {
   "cell_type": "code",
   "execution_count": 17,
   "metadata": {},
   "outputs": [],
   "source": [
    "# Save and output PPT report\n",
    "deck.save(deckpath)"
   ]
  },
  {
   "cell_type": "code",
   "execution_count": null,
   "metadata": {},
   "outputs": [],
   "source": []
  }
 ],
 "metadata": {
  "kernelspec": {
   "display_name": "Python 3 (ipykernel)",
   "language": "python",
   "name": "python3"
  },
  "language_info": {
   "codemirror_mode": {
    "name": "ipython",
    "version": 3
   },
   "file_extension": ".py",
   "mimetype": "text/x-python",
   "name": "python",
   "nbconvert_exporter": "python",
   "pygments_lexer": "ipython3",
   "version": "3.9.12"
  }
 },
 "nbformat": 4,
 "nbformat_minor": 2
}
